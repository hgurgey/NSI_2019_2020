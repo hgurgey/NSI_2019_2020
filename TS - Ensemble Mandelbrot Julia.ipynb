{
 "metadata": {
  "name": "",
  "signature": "sha256:1f7e408f7390918c3e06796bc721e1276d955fe42938bb3630e5ffb081f2f7ed"
 },
 "nbformat": 3,
 "nbformat_minor": 0,
 "worksheets": [
  {
   "cells": [
    {
     "cell_type": "markdown",
     "metadata": {},
     "source": [
      "Afin de pouvoir personnaliser votre classeur sans d\u00e9truire le classeur sur lequel travaille votre voisin, vous allez tout d'abord aller dans le menu **`File`** puis **`Make a copy...`**. Renommez le classeur en ajoutant votre nom \u00e0 la fin du nom de fichier par exemple."
     ]
    },
    {
     "cell_type": "heading",
     "level": 1,
     "metadata": {},
     "source": [
      "Ensembles de Mandelbrot et Julia"
     ]
    },
    {
     "cell_type": "markdown",
     "metadata": {},
     "source": [
      "Nous allons d\u00e9couvrir dans cette activit\u00e9 un ensemble fascinant : l'ensemble de Mandelbrot. Cet ensemble est un ensemble *fractal* d\u00e9couvert \u00e0 la fin des ann\u00e9es 70. Il a la propri\u00e9t\u00e9 d'offrir de superbes images quelque soit le niveau de zoom que l'on op\u00e8re sur lui, et ce, \u00e0 l'infini.\n",
      "![](http://upload.wikimedia.org/wikipedia/commons/thumb/1/18/Mandelpart2.jpg/320px-Mandelpart2.jpg)\n",
      "\n",
      "Ce qui est encore plus \u00e9tonnant, c'est que cette complexit\u00e9 infinie du graphisme est issue d'une formule math\u00e9matique des plus simples ! Pour construire cet ensemble extraordinaire, revenons sur les nombres complexes en introduisant la notion de ***module*** :"
     ]
    },
    {
     "cell_type": "heading",
     "level": 2,
     "metadata": {},
     "source": [
      "Module d'un nombre complexe"
     ]
    },
    {
     "cell_type": "markdown",
     "metadata": {},
     "source": [
      "Soit $z\\in \\mathbb C$ un nombre complexe. On appelle ***module*** de $z$ le nombre **r\u00e9el** d\u00e9fini par $$|z|=\\sqrt{z\\bar z}$$\n",
      "Si $z=a+ib$ est l'\u00e9criture alg\u00e9brique de $z$, alors $|z|=\\sqrt{a^2+b^2}$\n",
      "\n",
      "G\u00e9om\u00e9triquement, le module de $z$ n'est autre que la **distance d'un point** d'affixe $z$ **\u00e0 l'origine**.\n",
      "\n",
      "<img src=\"http://jaicompris.com/lycee/math/complexe/complexe-geometrie/module.png\" width=320>\n"
     ]
    },
    {
     "cell_type": "heading",
     "level": 3,
     "metadata": {},
     "source": [
      "Remarque"
     ]
    },
    {
     "cell_type": "markdown",
     "metadata": {},
     "source": [
      "Si $z\\in\\mathbb R$, $|z|$ co\u00efncide avec la valeur absolue que vous conaissez. La valeur absolue peut aussi s'interpr\u00e9ter sur la droite des r\u00e9els comme la distance d'un point d'abscisse $z\\in\\mathbb R$ \u00e0 l'origine"
     ]
    },
    {
     "cell_type": "heading",
     "level": 3,
     "metadata": {},
     "source": [
      "Exemple"
     ]
    },
    {
     "cell_type": "markdown",
     "metadata": {},
     "source": [
      "Calculer $|3-2i|$ puis v\u00e9rifiez en validant la cellule ci-dessous. Vous remarquerez au passage que Python s'accomode tr\u00e8s bien nativement des nombres complexes, \u00e0 ceci pr\u00e8s que le nombre imaginaire est not\u00e9 $j$ comme en physique ...\n",
      "\n",
      "La fonction pour calculer les modules est ***abs()*** ce qui et coh\u00e9rent car le module co\u00efncide avec la valeur absolue sur les r\u00e9els."
     ]
    },
    {
     "cell_type": "code",
     "collapsed": false,
     "input": [
      "abs(3-2j)"
     ],
     "language": "python",
     "metadata": {},
     "outputs": []
    },
    {
     "cell_type": "heading",
     "level": 1,
     "metadata": {},
     "source": [
      "A la d\u00e9couverte de l'ensemble de Julia"
     ]
    },
    {
     "cell_type": "markdown",
     "metadata": {},
     "source": [
      "Soit $c\\in \\mathbb C$ un nombre complexe.\n",
      "\n",
      "On consid\u00e8re pour un nombre $a\\in\\mathbb C$ donn\u00e9 la suite \u00e0 valeurs complexes $(z_n)$ d\u00e9finie par\n",
      "$$\\left \\{\\begin{array}{rcl}\n",
      "z_0 &=& a\\\\\n",
      "z_{n+1}&=&z_n^2+c\n",
      "\\end{array}\\right.$$\n",
      "On s'int\u00e9resse \u00e0 l'ensemble $\\mathscr J_c$ des points du plan d'affixe $a$ pour lesquels la suite $(|z_n|)$ est born\u00e9e."
     ]
    },
    {
     "cell_type": "heading",
     "level": 2,
     "metadata": {},
     "source": [
      "Compr\u00e9hension du probl\u00e8me"
     ]
    },
    {
     "cell_type": "markdown",
     "metadata": {},
     "source": [
      "On suppose dans cette section que c = \u22121\n",
      "\n",
      "1. \u00c9crire pour $a=0$ la suite $(z_n)$. Calculer les 5 premiers termes de la suite $(z_n)$.\n",
      "2. Le point $O(0;0)$ semble-t-il appartenir \u00e0 l'ensemble de Julia $\\mathscr J_{-1}$ ?\n",
      "3. \u00c9crire pour $a=i$ la suite $(z_n)$. Calculer les 5 premiers termes de la suite $(z_n)$.\n",
      "4. Le point $A(0;1)$ semble-t-il appartenir \u00e0 l'ensemble de Julia $\\mathscr J_{-1}$ ?\n"
     ]
    },
    {
     "cell_type": "markdown",
     "metadata": {},
     "source": [
      "R\u00e9pondez dans cette cellule ..."
     ]
    },
    {
     "cell_type": "heading",
     "level": 2,
     "metadata": {},
     "source": [
      "Algorithme"
     ]
    },
    {
     "cell_type": "markdown",
     "metadata": {},
     "source": [
      "On consid\u00e8re l'algorithme suivant :\n",
      "\n",
      "    a et c sont des nombres complexes donn\u00e9s\n",
      "    n prend la valeur 0\n",
      "    z prend la valeur a\n",
      "    tant que |z|<2 et n<100 Faire\n",
      "        n prend la valeur n+1\n",
      "        z prend la valeur z^2+c\n",
      "    Fin Tantque\n",
      "    Si n=100 Alors retourner -1\n",
      "    Sinon retourner n\n",
      "    \n",
      "1. Que renvoie cet algorithme si $a\\in \\mathscr J_c$ ?\n",
      "2. Expliquer la m\u00e9thode utilis\u00e9e pour d\u00e9tecter si la suite $|z_n|$ est born\u00e9e"
     ]
    },
    {
     "cell_type": "markdown",
     "metadata": {},
     "source": [
      "Votre r\u00e9ponse ici ..."
     ]
    },
    {
     "cell_type": "markdown",
     "metadata": {},
     "source": [
      "Programmer cet algorithme dans la fonction **Julia** ci-dessous"
     ]
    },
    {
     "cell_type": "code",
     "collapsed": false,
     "input": [
      "def Julia(a,c):\n",
      "    n=...\n",
      "    z=...\n",
      "    while ... and ... :\n",
      "        ...\n",
      "        ...\n",
      "    if ... :\n",
      "        return ...\n",
      "    else :\n",
      "        return ..."
     ],
     "language": "python",
     "metadata": {},
     "outputs": []
    },
    {
     "cell_type": "markdown",
     "metadata": {},
     "source": [
      "Tester votre fonction avec les points $O$ et $A$ de la section pr\u00e9c\u00e9dente."
     ]
    },
    {
     "cell_type": "code",
     "collapsed": false,
     "input": [
      "# Testez votre fonction ici\n",
      "print(\"Test du point O : \",Julia(...,...))\n",
      "print(\"Test du point A : \",Julia(...,...))"
     ],
     "language": "python",
     "metadata": {},
     "outputs": []
    },
    {
     "cell_type": "markdown",
     "metadata": {},
     "source": [
      "En utilisant votre fonction Julia, Testez si le point $B\\left(\\dfrac 1 2 ; \\dfrac 1 2 \\right)\\in \\mathscr J_{-0.47+0.15i}$"
     ]
    },
    {
     "cell_type": "code",
     "collapsed": false,
     "input": [
      "# Testez votre fonction ici\n",
      "print(\"Test du point B : \",Julia(...,...))"
     ],
     "language": "python",
     "metadata": {},
     "outputs": []
    },
    {
     "cell_type": "markdown",
     "metadata": {},
     "source": [
      "Tapez votre conclusion ici :"
     ]
    },
    {
     "cell_type": "heading",
     "level": 2,
     "metadata": {},
     "source": [
      "Assez de th\u00e9orie !!"
     ]
    },
    {
     "cell_type": "markdown",
     "metadata": {},
     "source": [
      "Les jolis dessins vont appara\u00eetre quand pour chaque point $A$ d'affixe $a$ on associera\n",
      "- la couleur noire si $A \\in \\mathscr J_c$\n",
      "- une autre couleur d\u00e9pendant du rang de sortie du disque  si $A \\notin \\mathscr J_c$\n",
      "\n",
      "C'est le r\u00f4le du programme suivant. Essayez d'en comprendre les grandes lignes gr\u00e2ce aux commentaires. Il n'y a rien \u00e0 modifier."
     ]
    },
    {
     "cell_type": "code",
     "collapsed": false,
     "input": [
      "import pylab as plt # On importe les librairies graphiques et de calcul\n",
      "\n",
      "w,h=320,240 # On d\u00e9finit la r\u00e9solution de l'image\n",
      "\n",
      "xMin,xMax=-2,2 # Param\u00e9trage de l'\u00e9chelle.\n",
      "yCentre=0      # A modifier si besoin pour zoomer sur des zones\n",
      "\n",
      "# On r\u00e8gle automatiquement l'\u00e9chelle sur y\n",
      "yMin=yCentre-(xMax-xMin)*h/w/2 # On conserve le ration largeur/longueur\n",
      "yMax=yCentre+(xMax-xMin)*h/w/2  # en fonciton de la r\u00e9solution\n",
      "pasX=(xMax-xMin)/w # pas sur x\n",
      "pasY=(yMax-yMin)/h # pas sur y\n",
      "\n",
      "c=-1 # param\u00e8tre de l'ensemble de Julia\n",
      "\n",
      "# On fabrique une grille de 320x240 contenant la sortie de notre fonction Julia\n",
      "\n",
      "grille=[]\n",
      "y=yMax # On commence par la ligne du haut\n",
      "for ligne in range(h):\n",
      "    x=xMin # On se replace \u00e0 gauche\n",
      "    ligne_grille=[]\n",
      "    for colonne in range(w):\n",
      "        \n",
      "        ## C'est ici que tout se joue !!! ##\n",
      "        a=x+1j*y # On calcule l'affixe du point A(x+iy)\n",
      "        ligne_grille.append(Julia(a,c)) # On ajoute le r\u00e9sultat de Julia dans la ligne\n",
      "        \n",
      "        x+=pasX\n",
      "    y-=pasY\n",
      "    grille.append(ligne_grille) # On ajoute notre ligne \u00e0 la grille"
     ],
     "language": "python",
     "metadata": {},
     "outputs": []
    },
    {
     "cell_type": "markdown",
     "metadata": {},
     "source": [
      "Les commentaires int\u00e9gr\u00e9s \u00e0 ce programme expliquent les grandes lignes des actions effectu\u00e9es. Les manipulations sont assez simples mais ne vous seront pas famili\u00e8res si vous n'avez pas suivi la sp\u00e9cialit\u00e9 ISN. Les ISN, en revanche, reconna\u00eetront le m\u00eame algorithme que celui utilis\u00e9 pour cr\u00e9er la grille de d\u00e9mineur !!\n",
      "\n",
      "Nous avons donc un tableau de 320x240 entiers. Chaque entr\u00e9e de ce tableau est un pixel d'une image. Appelons la fonction ***imshow*** pour visualiser l'image qui ressort. Tadaaaaa !!!!"
     ]
    },
    {
     "cell_type": "code",
     "collapsed": false,
     "input": [
      "plt.imshow(grille)"
     ],
     "language": "python",
     "metadata": {},
     "outputs": []
    },
    {
     "cell_type": "markdown",
     "metadata": {},
     "source": [
      "Whaou ! que c'est beau les maths !\n",
      "\n",
      "La partie bleue centrale correspond aux valeurs -1 retourn\u00e9es par la fonction Julia. C'est donc l'ensemble $\\mathscr J_c$. \n",
      "\n",
      "- plus on est proche de la fronti\u00e8re de cet ensemble, plus le rang d'\u00e9chappement du disque sera grand car *la suite est presque born\u00e9e*. On aura donc des valeurs de retour de Julia \u00e9lev\u00e9es, se traduisant par des couleurs claires.\n",
      "- plus on s'\u00e9loigne de l'ensemble de Julia, plus la divergence est rapide et donc la valeur de retour proche de 0. Cela se traduit par des couleurs plus sombres au fur \u00e0 mesure qu'on s'\u00e9loigne."
     ]
    },
    {
     "cell_type": "markdown",
     "metadata": {},
     "source": [
      "Zoomons un peu ...\n",
      "Vous choisirez\n",
      "- x compris entre -1.08 et 1.05\n",
      "- y centr\u00e9 en 0.34"
     ]
    },
    {
     "cell_type": "code",
     "collapsed": false,
     "input": [
      "# Copiez coller votre code ici :"
     ],
     "language": "python",
     "metadata": {},
     "outputs": []
    },
    {
     "cell_type": "heading",
     "level": 2,
     "metadata": {},
     "source": [
      "Le lapin de Douady"
     ]
    },
    {
     "cell_type": "markdown",
     "metadata": {},
     "source": [
      "Le lapin de douady dont il est fait r\u00e9f\u00e9rence dans les vid\u00e9os d'introduction au chapitre des complexes correspond \u00e0 la valeur $c \\approx -0.123 + 0.745 i$\n",
      "\n",
      "Modifiez le programme ci-dessus pour afficher le lapin. Vous choisirez\n",
      "- x compris entre -1.6 et 1.6\n",
      "- y centr\u00e9 en 0"
     ]
    },
    {
     "cell_type": "code",
     "collapsed": false,
     "input": [
      "# Copiez coller votre code ici :"
     ],
     "language": "python",
     "metadata": {},
     "outputs": []
    },
    {
     "cell_type": "heading",
     "level": 2,
     "metadata": {},
     "source": [
      "L'ensemble de Mandelbrot"
     ]
    },
    {
     "cell_type": "markdown",
     "metadata": {},
     "source": [
      "On consid\u00e8re pour un nombre $a\\in\\mathbb C$ donn\u00e9 la suite \u00e0 valeurs complexes $(z_n)$ d\u00e9finie par\n",
      "$$\\left \\{\\begin{array}{rcl}\n",
      "z_0 &=& a\\\\\n",
      "z_{n+1}&=&z_n^2+a\n",
      "\\end{array}\\right.$$\n",
      "On s'int\u00e9resse \u00e0 l'ensemble $\\mathscr M$ des points du plan d'affixe $a$ pour lesquels la suite $(|z_n|)$ est born\u00e9e.\n",
      "\n",
      "Dans la cellule ci-dessous, recopiez en la modifiant la fonction Julia afin qu'elle teste l'appartenance \u00e0 l'ensemble de Mandelbrot"
     ]
    },
    {
     "cell_type": "code",
     "collapsed": false,
     "input": [
      "# Votre nouvelle fonciton ici"
     ],
     "language": "python",
     "metadata": {},
     "outputs": []
    },
    {
     "cell_type": "markdown",
     "metadata": {},
     "source": [
      "Tracez \u00e0 pr\u00e9sent cet ensemble avec les param\u00e8tres d'\u00e9chelle suivants :\n",
      "- x compris entre -2 et 0,5\n",
      "- y centr\u00e9 en 0"
     ]
    },
    {
     "cell_type": "code",
     "collapsed": false,
     "input": [
      "# Copiez coller votre code ici :"
     ],
     "language": "python",
     "metadata": {},
     "outputs": []
    },
    {
     "cell_type": "heading",
     "level": 3,
     "metadata": {},
     "source": [
      "Les \u00e9l\u00e9phants"
     ]
    },
    {
     "cell_type": "markdown",
     "metadata": {},
     "source": [
      "Vous voulez voir les \u00e9l\u00e9phants du d\u00e9part ? ils sont ici :\n",
      "- x compris entre 0.30 et 0.32\n",
      "- y centr\u00e9 sur -0.03"
     ]
    },
    {
     "cell_type": "code",
     "collapsed": false,
     "input": [
      "# Copiez coller votre code ici :"
     ],
     "language": "python",
     "metadata": {},
     "outputs": []
    },
    {
     "cell_type": "code",
     "collapsed": false,
     "input": [],
     "language": "python",
     "metadata": {},
     "outputs": []
    }
   ],
   "metadata": {}
  }
 ]
}